{
 "cells": [
  {
   "cell_type": "code",
   "execution_count": 1,
   "metadata": {},
   "outputs": [],
   "source": [
    "import pandas as pd\n",
    "import numpy as np\n"
   ]
  },
  {
   "cell_type": "code",
   "execution_count": 2,
   "metadata": {},
   "outputs": [],
   "source": [
    "# Merge Maoyan and Douban\n",
    "data = []\n",
    "maoyan = pd.read_excel(\"Maoyan_comment.xlsx\")\n",
    "douban = pd.read_excel(\"Douban_comment.xlsx\")\n",
    "\n",
    "# Change the score to the same scale\n",
    "# 力荐 -> 5 推荐 -> 4 还行 -> 3 较差 -> 2 很差 -> 1\n",
    "douban['评分'] = douban['评分'].map({'力荐': 5, '推荐': 4, '还行': 3, '较差': 2, '很差': 1})\n",
    "# maoyan['评分'] = maoyan['评分'].astype(int)\n",
    "data.append(maoyan)\n",
    "data.append(douban)\n",
    "df = pd.concat(data)\n",
    "df.to_excel(\"Comment.xlsx\", index=False)"
   ]
  },
  {
   "cell_type": "code",
   "execution_count": 4,
   "metadata": {},
   "outputs": [],
   "source": [
    "# Divide the data into two parts\n",
    "# score>3 is positive, score<=3 is negative\n",
    "positive = df[df['评分'] > 3]\n",
    "negative = df[df['评分'] < 3]\n",
    "# Only keep the comment and score\n",
    "# remove comment content with less than 3 characters\n",
    "positive = positive[positive['评论内容'].str.len() > 3]\n",
    "negative = negative[negative['评论内容'].str.len() > 3]\n",
    "\n",
    "positive = positive[['评论内容']]\n",
    "negative = negative[['评论内容']]\n",
    "\n",
    "positive.to_excel(\"pos.xlsx\", index=False)\n",
    "negative.to_excel(\"neg.xlsx\", index=False)\n",
    "\n",
    "# Export to txt\n",
    "positive.to_csv(\"pos.txt\", index=False, header=False, sep='\\t')\n",
    "negative.to_csv(\"neg.txt\", index=False, header=False, sep='\\t')\n"
   ]
  }
 ],
 "metadata": {
  "kernelspec": {
   "display_name": "Daily",
   "language": "python",
   "name": "python3"
  },
  "language_info": {
   "codemirror_mode": {
    "name": "ipython",
    "version": 3
   },
   "file_extension": ".py",
   "mimetype": "text/x-python",
   "name": "python",
   "nbconvert_exporter": "python",
   "pygments_lexer": "ipython3",
   "version": "3.12.0"
  }
 },
 "nbformat": 4,
 "nbformat_minor": 2
}
