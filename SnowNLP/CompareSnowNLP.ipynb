{
 "cells": [
  {
   "cell_type": "code",
   "execution_count": 2,
   "metadata": {},
   "outputs": [
    {
     "name": "stdout",
     "output_type": "stream",
     "text": [
      "0.5416408618633877\n"
     ]
    },
    {
     "data": {
      "image/png": "[encoded data removed]",
      "text/plain": [
       "<Figure size 640x480 with 1 Axes>"
      ]
     },
     "metadata": {},
     "output_type": "display_data"
    }
   ],
   "source": [
    "from snownlp import SnowNLP, sentiment\n",
    "import numpy as np\n",
    "import pandas as pd\n",
    "import matplotlib.pyplot as plt\n",
    "\n",
    "# Modelpath=\"model/MovieComment.marshal\"\n",
    "Modelpath=\"Model/MovieComment.marshal\"\n",
    "\n",
    "def get_comment_score(comment):\n",
    "    s = SnowNLP(comment)\n",
    "    return s.sentiments\n",
    "\n",
    "\n",
    "def Calculate_sentiment(file_path):\n",
    "    with open(file_path, 'r', encoding='utf-8') as f:\n",
    "        comment = f.readlines()\n",
    "    # Convert to DataFrame\n",
    "    df = pd.DataFrame(comment, columns=['comment'])\n",
    "    # Drop rows with missing values\n",
    "    df['comment'] = df['comment'].fillna('')\n",
    "    df = df.dropna()\n",
    "    df['sentiment'] = df['comment'].apply(lambda x: SnowNLP(x).sentiments)\n",
    "    return df\n",
    "\n",
    "\n",
    "def Calculate_sentiment2(file_path):\n",
    "    # Read the xlsx file\n",
    "    comment = pd.read_excel(file_path)\n",
    "    # All [like] +1\n",
    "    comment['like'] = comment['like'] + 1\n",
    "    # Convert to DataFrame\n",
    "    df = comment\n",
    "    # Drop rows with missing values\n",
    "    df['comment'] = df['comment'].fillna('')\n",
    "    df = df.dropna()\n",
    "    # Transform all the comments to string\n",
    "    df['comment'] = df['comment'].astype(str)\n",
    "    df['sentiment'] = df['comment'].apply(lambda x: SnowNLP(x).sentiments)\n",
    "    return df\n",
    "\n",
    "\n",
    "def draw_hist(df):\n",
    "    df['sentiment'].hist(bins=5)\n",
    "    plt.show()\n",
    "\n",
    "\n",
    "if __name__ == \"__main__\":\n",
    "    sentiment.load(Modelpath)\n",
    "    df1 = Calculate_sentiment2('流浪地球.xlsx')\n",
    "    # Sum of all [like]\n",
    "    sum_like = df1['like'].sum()\n",
    "    # sentiment times like\n",
    "    df1['sentiment_like'] = df1['sentiment'] * df1['like']\n",
    "    # sentiment times like sum\n",
    "    mean_sentiment = df1['sentiment_like'].sum() / sum_like\n",
    "    print(mean_sentiment)\n",
    "    draw_hist(df1)\n",
    "    \n"
   ]
  },
  {
   "cell_type": "code",
   "execution_count": 5,
   "metadata": {},
   "outputs": [],
   "source": [
    "# Print the sentiment < 0.1\n",
    "df_out=df1[df1['sentiment']<0.1]\n",
    "\n",
    "# Save the sentiment < 0.1 to a new xlsx file\n",
    "df_out.to_excel('流浪地球_sentiment.xlsx', index=False)\n"
   ]
  },
  {
   "cell_type": "code",
   "execution_count": 7,
   "metadata": {},
   "outputs": [
    {
     "name": "stdout",
     "output_type": "stream",
     "text": [
      "0.0952849205362084\n"
     ]
    }
   ],
   "source": [
    "from snownlp import SnowNLP,sentiment\n",
    "Modelpath=\"model/MovieComment-1.marshal\"\n",
    "sentiment.load(Modelpath)\n",
    "\n",
    "comment=\"我在里面演的都是日本人，不算丢中国人的脸\"\n",
    "s = SnowNLP(comment)\n",
    "print(s.sentiments)"
   ]
  }
 ],
 "metadata": {
  "kernelspec": {
   "display_name": "NLP",
   "language": "python",
   "name": "python3"
  },
  "language_info": {
   "codemirror_mode": {
    "name": "ipython",
    "version": 3
   },
   "file_extension": ".py",
   "mimetype": "text/x-python",
   "name": "python",
   "nbconvert_exporter": "python",
   "pygments_lexer": "ipython3",
   "version": "3.12.0"
  }
 },
 "nbformat": 4,
 "nbformat_minor": 2
}
