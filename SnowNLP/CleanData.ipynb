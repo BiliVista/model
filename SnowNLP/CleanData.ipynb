{
 "cells": [
  {
   "cell_type": "code",
   "execution_count": 1,
   "metadata": {},
   "outputs": [],
   "source": [
    "import pandas as pd\n",
    "import numpy as np\n"
   ]
  },
  {
   "cell_type": "code",
   "execution_count": 5,
   "metadata": {},
   "outputs": [
    {
     "name": "stdout",
     "output_type": "stream",
     "text": [
      "[5 3 4 2 1 'unknown' 0]\n",
      "[5 3 4 2 1]\n",
      "[5 4 3 2 0 1]\n",
      "[5 4 3 2 0 1]\n"
     ]
    }
   ],
   "source": [
    "# Merge Maoyan and Douban\n",
    "data = []\n",
    "maoyan = pd.read_excel(\"Data/Maoyan_comment.xlsx\")\n",
    "douban = pd.read_excel(\"Data/Douban_comment.xlsx\")\n",
    "\n",
    "# Remove the rows with unknown score\n",
    "print(douban['评分'].unique())\n",
    "# Remove the rows with unknown score and 0 score\n",
    "douban = douban[douban['评分'] != 'unknown']\n",
    "douban = douban[douban['评分'] != 0]\n",
    "\n",
    "# Change the score to int\n",
    "douban['评分'] = douban['评分'].astype(int)\n",
    "maoyan['评分'] = maoyan['评分'].astype(int)\n",
    "\n",
    "# Merge two dataframes\n",
    "data.append(maoyan)\n",
    "data.append(douban)\n",
    "df = pd.concat(data)\n",
    "df.to_excel(\"Data/Comment.xlsx\", index=False)\n",
    "\n",
    "print(douban['评分'].unique())\n",
    "print(maoyan['评分'].unique())\n",
    "print(df['评分'].unique())"
   ]
  },
  {
   "cell_type": "code",
   "execution_count": 6,
   "metadata": {},
   "outputs": [],
   "source": [
    "# score>3 is positive, score< 3 is negative\n",
    "positive = df[df['评分'] > 3]\n",
    "negative = df[df['评分'] < 3]\n",
    "# Only keep the comment and score\n",
    "# remove comment content with less than 3 characters\n",
    "positive = positive[positive['评论内容'].str.len() > 3]\n",
    "negative = negative[negative['评论内容'].str.len() > 3]\n",
    "\n",
    "positive = positive[['评论内容']]\n",
    "negative = negative[['评论内容']]\n",
    "\n",
    "positive.to_excel(\"Data/pos.xlsx\", index=False)\n",
    "negative.to_excel(\"Data/neg.xlsx\", index=False)\n",
    "\n",
    "# Export to txt\n",
    "positive.to_csv(\"Data/pos.txt\", index=False, header=False, sep='\\t')\n",
    "negative.to_csv(\"Data/neg.txt\", index=False, header=False, sep='\\t')\n"
   ]
  }
 ],
 "metadata": {
  "kernelspec": {
   "display_name": "Daily",
   "language": "python",
   "name": "python3"
  },
  "language_info": {
   "codemirror_mode": {
    "name": "ipython",
    "version": 3
   },
   "file_extension": ".py",
   "mimetype": "text/x-python",
   "name": "python",
   "nbconvert_exporter": "python",
   "pygments_lexer": "ipython3",
   "version": "3.12.0"
  }
 },
 "nbformat": 4,
 "nbformat_minor": 2
}
