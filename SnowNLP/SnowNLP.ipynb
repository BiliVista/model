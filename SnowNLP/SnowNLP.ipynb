{
 "cells": [
  {
   "cell_type": "code",
   "execution_count": 1,
   "metadata": {},
   "outputs": [],
   "source": [
    "import random\n",
    "from snownlp import SnowNLP, sentiment\n",
    "\n",
    "# Load data from file\n",
    "def read_data(file_path):\n",
    "    with open(file_path, 'r', encoding='utf-8') as file:\n",
    "        data = file.readlines()\n",
    "    return [line.strip() for line in data if line.strip()]\n",
    "\n",
    "# Split data into training set and test set\n",
    "def split_data(data, train_ratio=0.8):\n",
    "    random.shuffle(data)\n",
    "    train_size = int(len(data) * train_ratio)\n",
    "    train_data = data[:train_size]\n",
    "    test_data = data[train_size:]\n",
    "    return train_data, test_data\n",
    "\n",
    "# Save data to file\n",
    "def save_data(data, file_path):\n",
    "    with open(file_path, 'w', encoding='utf-8') as file:\n",
    "        for line in data:\n",
    "            file.write(f\"{line}\\n\")\n",
    "\n",
    "# Test the model\n",
    "def test_model(test_data, label):\n",
    "    if not test_data:\n",
    "        return 0.0  # If test data is empty, return 0.0\n",
    "    correct = 0\n",
    "    for sentence in test_data:\n",
    "        s = SnowNLP(sentence)\n",
    "        prediction = s.sentiments\n",
    "        if label == 'positive' and prediction > 0.5:\n",
    "            correct += 1\n",
    "        elif label == 'negative' and prediction <= 0.5:\n",
    "            correct += 1\n",
    "    accuracy = correct / len(test_data)\n",
    "    return accuracy\n",
    "\n"
   ]
  },
  {
   "cell_type": "code",
   "execution_count": 5,
   "metadata": {},
   "outputs": [
    {
     "name": "stdout",
     "output_type": "stream",
     "text": [
      "0.7325370630041197\n"
     ]
    }
   ],
   "source": [
    "\n",
    "def train():\n",
    "    # Load data\n",
    "    positive_data = read_data('Data/pos.txt')\n",
    "    negative_data = read_data('Data/neg.txt')\n",
    "    # Split data\n",
    "    positive_train, positive_test = split_data(positive_data)\n",
    "    negative_train, negative_test = split_data(negative_data)\n",
    "    # Save data\n",
    "    save_data(positive_train, 'Data/positive_train.txt')\n",
    "    save_data(negative_train, 'Data/negative_train.txt')\n",
    "    save_data(positive_test, 'Data/positive_test.txt')\n",
    "    save_data(negative_test, 'Data/negative_test.txt')\n",
    "    sentiment.train('Data/negative_train.txt', 'Data/positive_train.txt')\n",
    "    sentiment.save('Model/sentiment.marshal')\n",
    "\n",
    "\n",
    "t2 = \"今天天气真好啊\"\n",
    "train()\n",
    "sentiment.load('Model/sentiment.marshal')\n",
    "s = SnowNLP(t2)\n",
    "print(s.sentiments)\n"
   ]
  },
  {
   "cell_type": "code",
   "execution_count": 3,
   "metadata": {},
   "outputs": [
    {
     "name": "stdout",
     "output_type": "stream",
     "text": [
      "Positive accuracy: 90.51%\n",
      "Negative accuracy: 87.14%\n",
      "Overall accuracy: 88.83%\n"
     ]
    }
   ],
   "source": [
    "\n",
    "# Load the model\n",
    "sentiment.load('Model/MovieComment.marshal')\n",
    "\n",
    "# Read the test data\n",
    "positive_test_data = read_data('Data/positive_test.txt')\n",
    "negative_test_data = read_data('Data/negative_test.txt')\n",
    "\n",
    "# Test the model\n",
    "positive_accuracy = test_model(positive_test_data, 'positive')\n",
    "negative_accuracy = test_model(negative_test_data, 'negative')\n",
    "\n",
    "# Print the results\n",
    "print(f\"Positive accuracy: {positive_accuracy * 100:.2f}%\")\n",
    "print(f\"Negative accuracy: {negative_accuracy * 100:.2f}%\")\n",
    "print(f\"Overall accuracy: {(positive_accuracy + negative_accuracy) / 2 * 100:.2f}%\")"
   ]
  }
 ],
 "metadata": {
  "kernelspec": {
   "display_name": "NLP",
   "language": "python",
   "name": "python3"
  },
  "language_info": {
   "codemirror_mode": {
    "name": "ipython",
    "version": 3
   },
   "file_extension": ".py",
   "mimetype": "text/x-python",
   "name": "python",
   "nbconvert_exporter": "python",
   "pygments_lexer": "ipython3",
   "version": "3.8.19"
  }
 },
 "nbformat": 4,
 "nbformat_minor": 2
}
