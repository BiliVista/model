{
 "cells": [
  {
   "cell_type": "code",
   "execution_count": 2,
   "metadata": {},
   "outputs": [],
   "source": [
    "import random\n",
    "from snownlp import SnowNLP, sentiment\n",
    "\n",
    "# 从文件加载数据\n",
    "def read_data(file_path):\n",
    "    with open(file_path, 'r', encoding='utf-8') as file:\n",
    "        data = file.readlines()\n",
    "    return [line.strip() for line in data if line.strip()]\n",
    "\n",
    "# 将数据拆分为训练集和测试集\n",
    "def split_data(data, train_ratio=0.8):\n",
    "    random.shuffle(data)\n",
    "    train_size = int(len(data) * train_ratio)\n",
    "    train_data = data[:train_size]\n",
    "    test_data = data[train_size:]\n",
    "    return train_data, test_data\n",
    "\n",
    "# 将数据保存到文件\n",
    "def save_data(data, file_path):\n",
    "    with open(file_path, 'w', encoding='utf-8') as file:\n",
    "        for line in data:\n",
    "            file.write(f\"{line}\\n\")\n",
    "\n",
    "# 测试模型\n",
    "def test_model(test_data, label):\n",
    "    if not test_data:\n",
    "        return 0.0  # 如果测试数据为空，则返回0的准确率\n",
    "    correct = 0\n",
    "    for sentence in test_data:\n",
    "        s = SnowNLP(sentence)\n",
    "        prediction = s.sentiments\n",
    "        if label == 'positive' and prediction > 0.5:\n",
    "            correct += 1\n",
    "        elif label == 'negative' and prediction <= 0.5:\n",
    "            correct += 1\n",
    "    accuracy = correct / len(test_data)\n",
    "    return accuracy\n",
    "\n",
    "# 加载数据\n",
    "positive_data = read_data('pos.txt')\n",
    "negative_data = read_data('neg.txt')\n",
    "\n",
    "# 拆分数据\n",
    "positive_train, positive_test = split_data(positive_data)\n",
    "negative_train, negative_test = split_data(negative_data)\n",
    "\n",
    "# 保存训练集和测试集数据\n",
    "save_data(positive_train, 'positive_train.txt')\n",
    "save_data(negative_train, 'negative_train.txt')\n",
    "save_data(positive_test, 'positive_test.txt')\n",
    "save_data(negative_test, 'negative_test.txt')\n",
    "\n",
    "# 训练模型\n",
    "sentiment.train('positive_train.txt', 'negative_train.txt')\n",
    "sentiment.save('sentiment.marshal')\n"
   ]
  },
  {
   "cell_type": "code",
   "execution_count": 10,
   "metadata": {},
   "outputs": [
    {
     "data": {
      "text/plain": [
       "0.2641523905731238"
      ]
     },
     "execution_count": 10,
     "metadata": {},
     "output_type": "execute_result"
    }
   ],
   "source": [
    "# 加载模型\n",
    "sentiment.load('Model/Douban+B站/sentiment.marshal')\n",
    "\n",
    "t2 = \"今天天气真好啊\"\n",
    "s = SnowNLP(t2)\n",
    "s.sentiments"
   ]
  },
  {
   "cell_type": "code",
   "execution_count": 7,
   "metadata": {},
   "outputs": [
    {
     "name": "stdout",
     "output_type": "stream",
     "text": [
      "Positive accuracy: 1.22%\n",
      "Negative accuracy: 20.55%\n",
      "Overall accuracy: 10.88%\n"
     ]
    }
   ],
   "source": [
    "\n",
    "# 加载测试数据\n",
    "positive_test_data = read_data('positive_test.txt')\n",
    "negative_test_data = read_data('negative_test.txt')\n",
    "\n",
    "# 测试模型\n",
    "positive_accuracy = test_model(positive_test_data, 'positive')\n",
    "negative_accuracy = test_model(negative_test_data, 'negative')\n",
    "\n",
    "# 打印结果\n",
    "print(f\"Positive accuracy: {positive_accuracy * 100:.2f}%\")\n",
    "print(f\"Negative accuracy: {negative_accuracy * 100:.2f}%\")\n",
    "print(f\"Overall accuracy: {(positive_accuracy + negative_accuracy) / 2 * 100:.2f}%\")"
   ]
  }
 ],
 "metadata": {
  "kernelspec": {
   "display_name": "NLP",
   "language": "python",
   "name": "python3"
  },
  "language_info": {
   "codemirror_mode": {
    "name": "ipython",
    "version": 3
   },
   "file_extension": ".py",
   "mimetype": "text/x-python",
   "name": "python",
   "nbconvert_exporter": "python",
   "pygments_lexer": "ipython3",
   "version": "3.8.19"
  }
 },
 "nbformat": 4,
 "nbformat_minor": 2
}
