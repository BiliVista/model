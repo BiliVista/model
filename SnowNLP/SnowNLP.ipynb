{
 "cells": [
  {
   "cell_type": "code",
   "execution_count": 6,
   "metadata": {},
   "outputs": [],
   "source": [
    "import random\n",
    "from snownlp import SnowNLP, sentiment\n",
    "\n",
    "# Load data from file\n",
    "def read_data(file_path):\n",
    "    with open(file_path, 'r', encoding='utf-8') as file:\n",
    "        data = file.readlines()\n",
    "    return [line.strip() for line in data if line.strip()]\n",
    "\n",
    "# Split data into training set and test set\n",
    "def split_data(data, train_ratio=0.8):\n",
    "    random.shuffle(data)\n",
    "    train_size = int(len(data) * train_ratio)\n",
    "    train_data = data[:train_size]\n",
    "    test_data = data[train_size:]\n",
    "    return train_data, test_data\n",
    "\n",
    "# Save data to file\n",
    "def save_data(data, file_path):\n",
    "    with open(file_path, 'w', encoding='utf-8') as file:\n",
    "        for line in data:\n",
    "            file.write(f\"{line}\\n\")\n",
    "\n",
    "# Test the model\n",
    "def test_model(test_data, label):\n",
    "    if not test_data:\n",
    "        return 0.0  # If test data is empty, return 0.0\n",
    "    correct = 0\n",
    "    for sentence in test_data:\n",
    "        s = SnowNLP(sentence)\n",
    "        prediction = s.sentiments\n",
    "        if label == 'positive' and prediction > 0.5:\n",
    "            correct += 1\n",
    "        elif label == 'negative' and prediction <= 0.5:\n",
    "            correct += 1\n",
    "    accuracy = correct / len(test_data)\n",
    "    return accuracy\n",
    "\n",
    "def train_model(store_file_path,postive_file_path,negative_file_path):\n",
    "    # Load data\n",
    "    positive_data = read_data(postive_file_path)\n",
    "    negative_data = read_data(negative_file_path)\n",
    "    # Split data\n",
    "    positive_train, positive_test = split_data(positive_data)\n",
    "    negative_train, negative_test = split_data(negative_data)\n",
    "    # Save data\n",
    "    save_data(positive_train, store_file_path+'positive_train.txt')\n",
    "    save_data(negative_train, store_file_path+'negative_train.txt')\n",
    "    save_data(positive_test, store_file_path+'positive_test.txt')\n",
    "    save_data(negative_test, store_file_path+'negative_test.txt')\n",
    "    sentiment.train(store_file_path+'negative_train.txt', store_file_path+'positive_train.txt')\n",
    "    sentiment.save('libs/Model/MovieCommentExtend.marshal.3')\n",
    "\n",
    "def test_model(store_file_path):\n",
    "    sentiment.load('libs/Model/MovieCommentExtend.marshal.3')\n",
    "    # Read the test data\n",
    "    positive_test_data = read_data(store_file_path+'positive_test.txt')\n",
    "    negative_test_data = read_data(store_file_path+'negative_test.txt')\n",
    "\n",
    "    # Test the model\n",
    "    positive_accuracy = test_model(positive_test_data, 'positive')\n",
    "    negative_accuracy = test_model(negative_test_data, 'negative')\n",
    "\n",
    "    # Print the results\n",
    "    print(f\"Positive accuracy: {positive_accuracy * 100:.2f}%\")\n",
    "    print(f\"Negative accuracy: {negative_accuracy * 100:.2f}%\")\n",
    "    print(f\"Overall accuracy: {(positive_accuracy + negative_accuracy) / 2 * 100:.2f}%\")"
   ]
  },
  {
   "cell_type": "code",
   "execution_count": 7,
   "metadata": {},
   "outputs": [
    {
     "name": "stdout",
     "output_type": "stream",
     "text": [
      "Positive accuracy: 81.33%\n",
      "Negative accuracy: 75.83%\n",
      "Overall accuracy: 78.58%\n"
     ]
    }
   ],
   "source": [
    "# Train the model\n",
    "if __name__ == '__main__':\n",
    "    # Train the model\n",
    "    store_file_path = 'Data/'\n",
    "    postive_file_path = 'Data/pos.txt'\n",
    "    negtive_file_path = 'Data/neg.txt'\n",
    "    train_model(store_file_path, postive_file_path, negtive_file_path)\n",
    "    # Test the model\n",
    "    test_model(store_file_path)\n"
   ]
  }
 ],
 "metadata": {
  "kernelspec": {
   "display_name": "NLP",
   "language": "python",
   "name": "python3"
  },
  "language_info": {
   "codemirror_mode": {
    "name": "ipython",
    "version": 3
   },
   "file_extension": ".py",
   "mimetype": "text/x-python",
   "name": "python",
   "nbconvert_exporter": "python",
   "pygments_lexer": "ipython3",
   "version": "3.8.19"
  }
 },
 "nbformat": 4,
 "nbformat_minor": 2
}
